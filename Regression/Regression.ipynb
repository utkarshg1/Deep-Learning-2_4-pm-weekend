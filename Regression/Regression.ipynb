{
 "cells": [
  {
   "cell_type": "markdown",
   "metadata": {},
   "source": [
    "# Regression - Predicting continuous values "
   ]
  },
  {
   "cell_type": "code",
   "execution_count": 1,
   "metadata": {},
   "outputs": [],
   "source": [
    "from warnings import filterwarnings\n",
    "filterwarnings('ignore')"
   ]
  },
  {
   "cell_type": "markdown",
   "metadata": {},
   "source": [
    "### Create a regression dataset"
   ]
  },
  {
   "cell_type": "code",
   "execution_count": 2,
   "metadata": {},
   "outputs": [],
   "source": [
    "from sklearn.datasets import make_regression\n",
    "X, Y = make_regression(n_samples=5000, n_features=30, n_informative=25, noise=10, random_state=42)"
   ]
  },
  {
   "cell_type": "code",
   "execution_count": 3,
   "metadata": {},
   "outputs": [
    {
     "data": {
      "text/plain": [
       "array([[-1.05245683, -0.94496269, -1.79989659, ..., -1.83442393,\n",
       "        -0.07956011,  1.20745263],\n",
       "       [-0.84747383,  0.31840811,  0.24796167, ..., -0.2390554 ,\n",
       "        -0.69763862,  1.31984005],\n",
       "       [-0.94602775,  0.2383774 , -1.6176638 , ..., -0.09142036,\n",
       "        -0.74652074, -2.21823553],\n",
       "       ...,\n",
       "       [-0.22097737,  1.14453288, -0.39354952, ..., -0.90184457,\n",
       "        -0.07424546, -0.2463316 ],\n",
       "       [-0.95614616,  0.03256098, -1.12885675, ..., -0.00963513,\n",
       "        -1.43734832,  0.63541106],\n",
       "       [ 1.51114116, -0.00270833, -1.26097476, ..., -0.15650465,\n",
       "         0.50981791,  1.19398227]])"
      ]
     },
     "execution_count": 3,
     "metadata": {},
     "output_type": "execute_result"
    }
   ],
   "source": [
    "X"
   ]
  },
  {
   "cell_type": "code",
   "execution_count": 4,
   "metadata": {},
   "outputs": [
    {
     "data": {
      "text/plain": [
       "(5000, 30)"
      ]
     },
     "execution_count": 4,
     "metadata": {},
     "output_type": "execute_result"
    }
   ],
   "source": [
    "X.shape"
   ]
  },
  {
   "cell_type": "code",
   "execution_count": 5,
   "metadata": {},
   "outputs": [
    {
     "data": {
      "text/plain": [
       "array([-232.93639282, -144.45063306,  -30.67109763, ...,  143.2968639 ,\n",
       "       -248.32988778,  -19.83229819])"
      ]
     },
     "execution_count": 5,
     "metadata": {},
     "output_type": "execute_result"
    }
   ],
   "source": [
    "Y"
   ]
  },
  {
   "cell_type": "markdown",
   "metadata": {},
   "source": [
    "### Save X and Y in dataframe"
   ]
  },
  {
   "cell_type": "code",
   "execution_count": 6,
   "metadata": {},
   "outputs": [
    {
     "data": {
      "text/plain": [
       "['x1',\n",
       " 'x2',\n",
       " 'x3',\n",
       " 'x4',\n",
       " 'x5',\n",
       " 'x6',\n",
       " 'x7',\n",
       " 'x8',\n",
       " 'x9',\n",
       " 'x10',\n",
       " 'x11',\n",
       " 'x12',\n",
       " 'x13',\n",
       " 'x14',\n",
       " 'x15',\n",
       " 'x16',\n",
       " 'x17',\n",
       " 'x18',\n",
       " 'x19',\n",
       " 'x20',\n",
       " 'x21',\n",
       " 'x22',\n",
       " 'x23',\n",
       " 'x24',\n",
       " 'x25',\n",
       " 'x26',\n",
       " 'x27',\n",
       " 'x28',\n",
       " 'x29',\n",
       " 'x30']"
      ]
     },
     "execution_count": 6,
     "metadata": {},
     "output_type": "execute_result"
    }
   ],
   "source": [
    "cols = [f'x{i+1}' for i in range(30)]\n",
    "cols"
   ]
  },
  {
   "cell_type": "code",
   "execution_count": 7,
   "metadata": {},
   "outputs": [
    {
     "data": {
      "text/html": [
       "<div>\n",
       "<style scoped>\n",
       "    .dataframe tbody tr th:only-of-type {\n",
       "        vertical-align: middle;\n",
       "    }\n",
       "\n",
       "    .dataframe tbody tr th {\n",
       "        vertical-align: top;\n",
       "    }\n",
       "\n",
       "    .dataframe thead th {\n",
       "        text-align: right;\n",
       "    }\n",
       "</style>\n",
       "<table border=\"1\" class=\"dataframe\">\n",
       "  <thead>\n",
       "    <tr style=\"text-align: right;\">\n",
       "      <th></th>\n",
       "      <th>x1</th>\n",
       "      <th>x2</th>\n",
       "      <th>x3</th>\n",
       "      <th>x4</th>\n",
       "      <th>x5</th>\n",
       "      <th>x6</th>\n",
       "      <th>x7</th>\n",
       "      <th>x8</th>\n",
       "      <th>x9</th>\n",
       "      <th>x10</th>\n",
       "      <th>...</th>\n",
       "      <th>x21</th>\n",
       "      <th>x22</th>\n",
       "      <th>x23</th>\n",
       "      <th>x24</th>\n",
       "      <th>x25</th>\n",
       "      <th>x26</th>\n",
       "      <th>x27</th>\n",
       "      <th>x28</th>\n",
       "      <th>x29</th>\n",
       "      <th>x30</th>\n",
       "    </tr>\n",
       "  </thead>\n",
       "  <tbody>\n",
       "    <tr>\n",
       "      <th>0</th>\n",
       "      <td>-1.052457</td>\n",
       "      <td>-0.944963</td>\n",
       "      <td>-1.799897</td>\n",
       "      <td>-0.034799</td>\n",
       "      <td>-1.482409</td>\n",
       "      <td>1.613543</td>\n",
       "      <td>-0.748163</td>\n",
       "      <td>-0.645310</td>\n",
       "      <td>1.063117</td>\n",
       "      <td>-1.335465</td>\n",
       "      <td>...</td>\n",
       "      <td>-0.398323</td>\n",
       "      <td>0.326932</td>\n",
       "      <td>2.042239</td>\n",
       "      <td>-0.301699</td>\n",
       "      <td>-1.361063</td>\n",
       "      <td>1.454857</td>\n",
       "      <td>-0.066823</td>\n",
       "      <td>-1.834424</td>\n",
       "      <td>-0.079560</td>\n",
       "      <td>1.207453</td>\n",
       "    </tr>\n",
       "    <tr>\n",
       "      <th>1</th>\n",
       "      <td>-0.847474</td>\n",
       "      <td>0.318408</td>\n",
       "      <td>0.247962</td>\n",
       "      <td>0.176165</td>\n",
       "      <td>0.550274</td>\n",
       "      <td>-0.695864</td>\n",
       "      <td>0.599538</td>\n",
       "      <td>-0.050914</td>\n",
       "      <td>1.363157</td>\n",
       "      <td>-1.201647</td>\n",
       "      <td>...</td>\n",
       "      <td>-1.368967</td>\n",
       "      <td>-0.403174</td>\n",
       "      <td>0.125837</td>\n",
       "      <td>-1.231097</td>\n",
       "      <td>-0.042579</td>\n",
       "      <td>-0.293594</td>\n",
       "      <td>-0.505876</td>\n",
       "      <td>-0.239055</td>\n",
       "      <td>-0.697639</td>\n",
       "      <td>1.319840</td>\n",
       "    </tr>\n",
       "    <tr>\n",
       "      <th>2</th>\n",
       "      <td>-0.946028</td>\n",
       "      <td>0.238377</td>\n",
       "      <td>-1.617664</td>\n",
       "      <td>-2.253756</td>\n",
       "      <td>-1.057629</td>\n",
       "      <td>-0.011553</td>\n",
       "      <td>1.400647</td>\n",
       "      <td>0.990803</td>\n",
       "      <td>-0.262228</td>\n",
       "      <td>-0.396235</td>\n",
       "      <td>...</td>\n",
       "      <td>-0.400736</td>\n",
       "      <td>0.007432</td>\n",
       "      <td>0.219753</td>\n",
       "      <td>2.205187</td>\n",
       "      <td>0.746020</td>\n",
       "      <td>-0.175596</td>\n",
       "      <td>-1.132978</td>\n",
       "      <td>-0.091420</td>\n",
       "      <td>-0.746521</td>\n",
       "      <td>-2.218236</td>\n",
       "    </tr>\n",
       "    <tr>\n",
       "      <th>3</th>\n",
       "      <td>-0.365222</td>\n",
       "      <td>0.004347</td>\n",
       "      <td>1.459301</td>\n",
       "      <td>1.650519</td>\n",
       "      <td>-3.114990</td>\n",
       "      <td>0.718841</td>\n",
       "      <td>1.669763</td>\n",
       "      <td>0.594568</td>\n",
       "      <td>0.350614</td>\n",
       "      <td>-0.528732</td>\n",
       "      <td>...</td>\n",
       "      <td>0.587610</td>\n",
       "      <td>0.050495</td>\n",
       "      <td>0.692244</td>\n",
       "      <td>0.492412</td>\n",
       "      <td>-0.118160</td>\n",
       "      <td>0.151945</td>\n",
       "      <td>-0.299890</td>\n",
       "      <td>1.009559</td>\n",
       "      <td>-0.779756</td>\n",
       "      <td>1.105541</td>\n",
       "    </tr>\n",
       "    <tr>\n",
       "      <th>4</th>\n",
       "      <td>-0.937119</td>\n",
       "      <td>0.038862</td>\n",
       "      <td>0.267291</td>\n",
       "      <td>-2.321520</td>\n",
       "      <td>-0.519995</td>\n",
       "      <td>1.281711</td>\n",
       "      <td>-0.447109</td>\n",
       "      <td>1.847404</td>\n",
       "      <td>-0.179080</td>\n",
       "      <td>0.073799</td>\n",
       "      <td>...</td>\n",
       "      <td>-0.985717</td>\n",
       "      <td>0.734585</td>\n",
       "      <td>-0.870311</td>\n",
       "      <td>0.316585</td>\n",
       "      <td>0.373045</td>\n",
       "      <td>-0.594102</td>\n",
       "      <td>-1.388615</td>\n",
       "      <td>1.262913</td>\n",
       "      <td>-0.668793</td>\n",
       "      <td>-0.049186</td>\n",
       "    </tr>\n",
       "  </tbody>\n",
       "</table>\n",
       "<p>5 rows × 30 columns</p>\n",
       "</div>"
      ],
      "text/plain": [
       "         x1        x2        x3        x4        x5        x6        x7  \\\n",
       "0 -1.052457 -0.944963 -1.799897 -0.034799 -1.482409  1.613543 -0.748163   \n",
       "1 -0.847474  0.318408  0.247962  0.176165  0.550274 -0.695864  0.599538   \n",
       "2 -0.946028  0.238377 -1.617664 -2.253756 -1.057629 -0.011553  1.400647   \n",
       "3 -0.365222  0.004347  1.459301  1.650519 -3.114990  0.718841  1.669763   \n",
       "4 -0.937119  0.038862  0.267291 -2.321520 -0.519995  1.281711 -0.447109   \n",
       "\n",
       "         x8        x9       x10  ...       x21       x22       x23       x24  \\\n",
       "0 -0.645310  1.063117 -1.335465  ... -0.398323  0.326932  2.042239 -0.301699   \n",
       "1 -0.050914  1.363157 -1.201647  ... -1.368967 -0.403174  0.125837 -1.231097   \n",
       "2  0.990803 -0.262228 -0.396235  ... -0.400736  0.007432  0.219753  2.205187   \n",
       "3  0.594568  0.350614 -0.528732  ...  0.587610  0.050495  0.692244  0.492412   \n",
       "4  1.847404 -0.179080  0.073799  ... -0.985717  0.734585 -0.870311  0.316585   \n",
       "\n",
       "        x25       x26       x27       x28       x29       x30  \n",
       "0 -1.361063  1.454857 -0.066823 -1.834424 -0.079560  1.207453  \n",
       "1 -0.042579 -0.293594 -0.505876 -0.239055 -0.697639  1.319840  \n",
       "2  0.746020 -0.175596 -1.132978 -0.091420 -0.746521 -2.218236  \n",
       "3 -0.118160  0.151945 -0.299890  1.009559 -0.779756  1.105541  \n",
       "4  0.373045 -0.594102 -1.388615  1.262913 -0.668793 -0.049186  \n",
       "\n",
       "[5 rows x 30 columns]"
      ]
     },
     "execution_count": 7,
     "metadata": {},
     "output_type": "execute_result"
    }
   ],
   "source": [
    "import pandas as pd\n",
    "X = pd.DataFrame(X, columns=cols)\n",
    "X.head()"
   ]
  },
  {
   "cell_type": "code",
   "execution_count": 8,
   "metadata": {},
   "outputs": [],
   "source": [
    "Y = pd.DataFrame(Y, columns=['Y'])"
   ]
  },
  {
   "cell_type": "code",
   "execution_count": 9,
   "metadata": {},
   "outputs": [
    {
     "data": {
      "text/html": [
       "<div>\n",
       "<style scoped>\n",
       "    .dataframe tbody tr th:only-of-type {\n",
       "        vertical-align: middle;\n",
       "    }\n",
       "\n",
       "    .dataframe tbody tr th {\n",
       "        vertical-align: top;\n",
       "    }\n",
       "\n",
       "    .dataframe thead th {\n",
       "        text-align: right;\n",
       "    }\n",
       "</style>\n",
       "<table border=\"1\" class=\"dataframe\">\n",
       "  <thead>\n",
       "    <tr style=\"text-align: right;\">\n",
       "      <th></th>\n",
       "      <th>Y</th>\n",
       "    </tr>\n",
       "  </thead>\n",
       "  <tbody>\n",
       "    <tr>\n",
       "      <th>0</th>\n",
       "      <td>-232.936393</td>\n",
       "    </tr>\n",
       "    <tr>\n",
       "      <th>1</th>\n",
       "      <td>-144.450633</td>\n",
       "    </tr>\n",
       "    <tr>\n",
       "      <th>2</th>\n",
       "      <td>-30.671098</td>\n",
       "    </tr>\n",
       "    <tr>\n",
       "      <th>3</th>\n",
       "      <td>165.764197</td>\n",
       "    </tr>\n",
       "    <tr>\n",
       "      <th>4</th>\n",
       "      <td>-252.068764</td>\n",
       "    </tr>\n",
       "    <tr>\n",
       "      <th>...</th>\n",
       "      <td>...</td>\n",
       "    </tr>\n",
       "    <tr>\n",
       "      <th>4995</th>\n",
       "      <td>337.924300</td>\n",
       "    </tr>\n",
       "    <tr>\n",
       "      <th>4996</th>\n",
       "      <td>587.266360</td>\n",
       "    </tr>\n",
       "    <tr>\n",
       "      <th>4997</th>\n",
       "      <td>143.296864</td>\n",
       "    </tr>\n",
       "    <tr>\n",
       "      <th>4998</th>\n",
       "      <td>-248.329888</td>\n",
       "    </tr>\n",
       "    <tr>\n",
       "      <th>4999</th>\n",
       "      <td>-19.832298</td>\n",
       "    </tr>\n",
       "  </tbody>\n",
       "</table>\n",
       "<p>5000 rows × 1 columns</p>\n",
       "</div>"
      ],
      "text/plain": [
       "               Y\n",
       "0    -232.936393\n",
       "1    -144.450633\n",
       "2     -30.671098\n",
       "3     165.764197\n",
       "4    -252.068764\n",
       "...          ...\n",
       "4995  337.924300\n",
       "4996  587.266360\n",
       "4997  143.296864\n",
       "4998 -248.329888\n",
       "4999  -19.832298\n",
       "\n",
       "[5000 rows x 1 columns]"
      ]
     },
     "execution_count": 9,
     "metadata": {},
     "output_type": "execute_result"
    }
   ],
   "source": [
    "Y"
   ]
  },
  {
   "cell_type": "markdown",
   "metadata": {},
   "source": [
    "### Create a preprocessing Pipeline for X"
   ]
  },
  {
   "cell_type": "code",
   "execution_count": 10,
   "metadata": {},
   "outputs": [],
   "source": [
    "from sklearn.pipeline import Pipeline\n",
    "from sklearn.impute import SimpleImputer\n",
    "from sklearn.preprocessing import StandardScaler"
   ]
  },
  {
   "cell_type": "code",
   "execution_count": 11,
   "metadata": {},
   "outputs": [],
   "source": [
    "num_pipe = Pipeline(steps=[('impute', SimpleImputer(strategy='mean')),\n",
    "                           ('scaler', StandardScaler())])"
   ]
  },
  {
   "cell_type": "code",
   "execution_count": 12,
   "metadata": {},
   "outputs": [
    {
     "data": {
      "text/plain": [
       "array([[-1.00877542, -0.96849615, -1.8356222 , ..., -1.84743596,\n",
       "        -0.06441693,  1.19633814],\n",
       "       [-0.80656544,  0.30321775,  0.22782616, ..., -0.25077076,\n",
       "        -0.67948802,  1.30863615],\n",
       "       [-0.90378611,  0.22265853, -1.6520021 , ..., -0.10301574,\n",
       "        -0.72813229, -2.22662492],\n",
       "       ...,\n",
       "       [-0.1885443 ,  1.13479811, -0.41856878, ..., -0.91409862,\n",
       "        -0.05912814, -0.25628963],\n",
       "       [-0.91376764,  0.01548293, -1.15947382, ..., -0.02116403,\n",
       "        -1.41559849,  0.62475162],\n",
       "       [ 1.52014196, -0.02001929, -1.29259762, ..., -0.16815292,\n",
       "         0.52209333,  1.18287849]])"
      ]
     },
     "execution_count": 12,
     "metadata": {},
     "output_type": "execute_result"
    }
   ],
   "source": [
    "X_pre = num_pipe.fit_transform(X)\n",
    "X_pre"
   ]
  },
  {
   "cell_type": "code",
   "execution_count": 13,
   "metadata": {},
   "outputs": [],
   "source": [
    "cols = num_pipe.get_feature_names_out()"
   ]
  },
  {
   "cell_type": "code",
   "execution_count": 14,
   "metadata": {},
   "outputs": [
    {
     "data": {
      "text/plain": [
       "array(['x1', 'x2', 'x3', 'x4', 'x5', 'x6', 'x7', 'x8', 'x9', 'x10', 'x11',\n",
       "       'x12', 'x13', 'x14', 'x15', 'x16', 'x17', 'x18', 'x19', 'x20',\n",
       "       'x21', 'x22', 'x23', 'x24', 'x25', 'x26', 'x27', 'x28', 'x29',\n",
       "       'x30'], dtype=object)"
      ]
     },
     "execution_count": 14,
     "metadata": {},
     "output_type": "execute_result"
    }
   ],
   "source": [
    "cols"
   ]
  },
  {
   "cell_type": "code",
   "execution_count": 15,
   "metadata": {},
   "outputs": [
    {
     "data": {
      "text/html": [
       "<div>\n",
       "<style scoped>\n",
       "    .dataframe tbody tr th:only-of-type {\n",
       "        vertical-align: middle;\n",
       "    }\n",
       "\n",
       "    .dataframe tbody tr th {\n",
       "        vertical-align: top;\n",
       "    }\n",
       "\n",
       "    .dataframe thead th {\n",
       "        text-align: right;\n",
       "    }\n",
       "</style>\n",
       "<table border=\"1\" class=\"dataframe\">\n",
       "  <thead>\n",
       "    <tr style=\"text-align: right;\">\n",
       "      <th></th>\n",
       "      <th>x1</th>\n",
       "      <th>x2</th>\n",
       "      <th>x3</th>\n",
       "      <th>x4</th>\n",
       "      <th>x5</th>\n",
       "      <th>x6</th>\n",
       "      <th>x7</th>\n",
       "      <th>x8</th>\n",
       "      <th>x9</th>\n",
       "      <th>x10</th>\n",
       "      <th>...</th>\n",
       "      <th>x21</th>\n",
       "      <th>x22</th>\n",
       "      <th>x23</th>\n",
       "      <th>x24</th>\n",
       "      <th>x25</th>\n",
       "      <th>x26</th>\n",
       "      <th>x27</th>\n",
       "      <th>x28</th>\n",
       "      <th>x29</th>\n",
       "      <th>x30</th>\n",
       "    </tr>\n",
       "  </thead>\n",
       "  <tbody>\n",
       "    <tr>\n",
       "      <th>0</th>\n",
       "      <td>-1.008775</td>\n",
       "      <td>-0.968496</td>\n",
       "      <td>-1.835622</td>\n",
       "      <td>-0.032196</td>\n",
       "      <td>-1.485420</td>\n",
       "      <td>1.614947</td>\n",
       "      <td>-0.747164</td>\n",
       "      <td>-0.627734</td>\n",
       "      <td>1.038359</td>\n",
       "      <td>-1.340893</td>\n",
       "      <td>...</td>\n",
       "      <td>-0.418507</td>\n",
       "      <td>0.322752</td>\n",
       "      <td>2.071710</td>\n",
       "      <td>-0.324901</td>\n",
       "      <td>-1.342910</td>\n",
       "      <td>1.406812</td>\n",
       "      <td>-0.052268</td>\n",
       "      <td>-1.847436</td>\n",
       "      <td>-0.064417</td>\n",
       "      <td>1.196338</td>\n",
       "    </tr>\n",
       "    <tr>\n",
       "      <th>1</th>\n",
       "      <td>-0.806565</td>\n",
       "      <td>0.303218</td>\n",
       "      <td>0.227826</td>\n",
       "      <td>0.179320</td>\n",
       "      <td>0.577043</td>\n",
       "      <td>-0.684461</td>\n",
       "      <td>0.585446</td>\n",
       "      <td>-0.053781</td>\n",
       "      <td>1.334905</td>\n",
       "      <td>-1.205877</td>\n",
       "      <td>...</td>\n",
       "      <td>-1.393646</td>\n",
       "      <td>-0.402106</td>\n",
       "      <td>0.132047</td>\n",
       "      <td>-1.271369</td>\n",
       "      <td>-0.027103</td>\n",
       "      <td>-0.319448</td>\n",
       "      <td>-0.496045</td>\n",
       "      <td>-0.250771</td>\n",
       "      <td>-0.679488</td>\n",
       "      <td>1.308636</td>\n",
       "    </tr>\n",
       "    <tr>\n",
       "      <th>2</th>\n",
       "      <td>-0.903786</td>\n",
       "      <td>0.222659</td>\n",
       "      <td>-1.652002</td>\n",
       "      <td>-2.256956</td>\n",
       "      <td>-1.054417</td>\n",
       "      <td>-0.003112</td>\n",
       "      <td>1.377584</td>\n",
       "      <td>0.952108</td>\n",
       "      <td>-0.271556</td>\n",
       "      <td>-0.393252</td>\n",
       "      <td>...</td>\n",
       "      <td>-0.420931</td>\n",
       "      <td>0.005548</td>\n",
       "      <td>0.227103</td>\n",
       "      <td>2.228029</td>\n",
       "      <td>0.759895</td>\n",
       "      <td>-0.202948</td>\n",
       "      <td>-1.129894</td>\n",
       "      <td>-0.103016</td>\n",
       "      <td>-0.728132</td>\n",
       "      <td>-2.226625</td>\n",
       "    </tr>\n",
       "    <tr>\n",
       "      <th>3</th>\n",
       "      <td>-0.330838</td>\n",
       "      <td>-0.012918</td>\n",
       "      <td>1.448387</td>\n",
       "      <td>1.657530</td>\n",
       "      <td>-3.141920</td>\n",
       "      <td>0.724120</td>\n",
       "      <td>1.643688</td>\n",
       "      <td>0.569500</td>\n",
       "      <td>0.334151</td>\n",
       "      <td>-0.526935</td>\n",
       "      <td>...</td>\n",
       "      <td>0.571991</td>\n",
       "      <td>0.048302</td>\n",
       "      <td>0.705328</td>\n",
       "      <td>0.483796</td>\n",
       "      <td>-0.102530</td>\n",
       "      <td>0.120436</td>\n",
       "      <td>-0.287843</td>\n",
       "      <td>0.998859</td>\n",
       "      <td>-0.761205</td>\n",
       "      <td>1.094508</td>\n",
       "    </tr>\n",
       "    <tr>\n",
       "      <th>4</th>\n",
       "      <td>-0.894998</td>\n",
       "      <td>0.021825</td>\n",
       "      <td>0.247303</td>\n",
       "      <td>-2.324897</td>\n",
       "      <td>-0.508906</td>\n",
       "      <td>1.284552</td>\n",
       "      <td>-0.449481</td>\n",
       "      <td>1.779248</td>\n",
       "      <td>-0.189376</td>\n",
       "      <td>0.080993</td>\n",
       "      <td>...</td>\n",
       "      <td>-1.008621</td>\n",
       "      <td>0.727476</td>\n",
       "      <td>-0.876193</td>\n",
       "      <td>0.304739</td>\n",
       "      <td>0.387677</td>\n",
       "      <td>-0.616143</td>\n",
       "      <td>-1.388281</td>\n",
       "      <td>1.252419</td>\n",
       "      <td>-0.650783</td>\n",
       "      <td>-0.059300</td>\n",
       "    </tr>\n",
       "  </tbody>\n",
       "</table>\n",
       "<p>5 rows × 30 columns</p>\n",
       "</div>"
      ],
      "text/plain": [
       "         x1        x2        x3        x4        x5        x6        x7  \\\n",
       "0 -1.008775 -0.968496 -1.835622 -0.032196 -1.485420  1.614947 -0.747164   \n",
       "1 -0.806565  0.303218  0.227826  0.179320  0.577043 -0.684461  0.585446   \n",
       "2 -0.903786  0.222659 -1.652002 -2.256956 -1.054417 -0.003112  1.377584   \n",
       "3 -0.330838 -0.012918  1.448387  1.657530 -3.141920  0.724120  1.643688   \n",
       "4 -0.894998  0.021825  0.247303 -2.324897 -0.508906  1.284552 -0.449481   \n",
       "\n",
       "         x8        x9       x10  ...       x21       x22       x23       x24  \\\n",
       "0 -0.627734  1.038359 -1.340893  ... -0.418507  0.322752  2.071710 -0.324901   \n",
       "1 -0.053781  1.334905 -1.205877  ... -1.393646 -0.402106  0.132047 -1.271369   \n",
       "2  0.952108 -0.271556 -0.393252  ... -0.420931  0.005548  0.227103  2.228029   \n",
       "3  0.569500  0.334151 -0.526935  ...  0.571991  0.048302  0.705328  0.483796   \n",
       "4  1.779248 -0.189376  0.080993  ... -1.008621  0.727476 -0.876193  0.304739   \n",
       "\n",
       "        x25       x26       x27       x28       x29       x30  \n",
       "0 -1.342910  1.406812 -0.052268 -1.847436 -0.064417  1.196338  \n",
       "1 -0.027103 -0.319448 -0.496045 -0.250771 -0.679488  1.308636  \n",
       "2  0.759895 -0.202948 -1.129894 -0.103016 -0.728132 -2.226625  \n",
       "3 -0.102530  0.120436 -0.287843  0.998859 -0.761205  1.094508  \n",
       "4  0.387677 -0.616143 -1.388281  1.252419 -0.650783 -0.059300  \n",
       "\n",
       "[5 rows x 30 columns]"
      ]
     },
     "execution_count": 15,
     "metadata": {},
     "output_type": "execute_result"
    }
   ],
   "source": [
    "X_pre = pd.DataFrame(X_pre, columns=cols)\n",
    "X_pre.head()"
   ]
  },
  {
   "cell_type": "markdown",
   "metadata": {},
   "source": [
    "### Train Test split"
   ]
  },
  {
   "cell_type": "code",
   "execution_count": 16,
   "metadata": {},
   "outputs": [],
   "source": [
    "from sklearn.model_selection import train_test_split\n",
    "xtrain, xtest, ytrain, ytest = train_test_split(X_pre, Y, test_size=0.2, random_state=42)"
   ]
  },
  {
   "cell_type": "code",
   "execution_count": 17,
   "metadata": {},
   "outputs": [
    {
     "data": {
      "text/html": [
       "<div>\n",
       "<style scoped>\n",
       "    .dataframe tbody tr th:only-of-type {\n",
       "        vertical-align: middle;\n",
       "    }\n",
       "\n",
       "    .dataframe tbody tr th {\n",
       "        vertical-align: top;\n",
       "    }\n",
       "\n",
       "    .dataframe thead th {\n",
       "        text-align: right;\n",
       "    }\n",
       "</style>\n",
       "<table border=\"1\" class=\"dataframe\">\n",
       "  <thead>\n",
       "    <tr style=\"text-align: right;\">\n",
       "      <th></th>\n",
       "      <th>x1</th>\n",
       "      <th>x2</th>\n",
       "      <th>x3</th>\n",
       "      <th>x4</th>\n",
       "      <th>x5</th>\n",
       "      <th>x6</th>\n",
       "      <th>x7</th>\n",
       "      <th>x8</th>\n",
       "      <th>x9</th>\n",
       "      <th>x10</th>\n",
       "      <th>...</th>\n",
       "      <th>x21</th>\n",
       "      <th>x22</th>\n",
       "      <th>x23</th>\n",
       "      <th>x24</th>\n",
       "      <th>x25</th>\n",
       "      <th>x26</th>\n",
       "      <th>x27</th>\n",
       "      <th>x28</th>\n",
       "      <th>x29</th>\n",
       "      <th>x30</th>\n",
       "    </tr>\n",
       "  </thead>\n",
       "  <tbody>\n",
       "    <tr>\n",
       "      <th>4227</th>\n",
       "      <td>0.274306</td>\n",
       "      <td>-2.243030</td>\n",
       "      <td>0.307393</td>\n",
       "      <td>2.279325</td>\n",
       "      <td>-0.849919</td>\n",
       "      <td>-0.499417</td>\n",
       "      <td>0.063387</td>\n",
       "      <td>0.322236</td>\n",
       "      <td>-0.279113</td>\n",
       "      <td>-1.485297</td>\n",
       "      <td>...</td>\n",
       "      <td>-0.435550</td>\n",
       "      <td>0.016456</td>\n",
       "      <td>-0.478773</td>\n",
       "      <td>0.826978</td>\n",
       "      <td>0.348374</td>\n",
       "      <td>0.203044</td>\n",
       "      <td>-0.974020</td>\n",
       "      <td>1.133163</td>\n",
       "      <td>0.644459</td>\n",
       "      <td>1.026561</td>\n",
       "    </tr>\n",
       "    <tr>\n",
       "      <th>4676</th>\n",
       "      <td>-0.110889</td>\n",
       "      <td>-2.308274</td>\n",
       "      <td>-0.306657</td>\n",
       "      <td>-2.797217</td>\n",
       "      <td>0.744218</td>\n",
       "      <td>-1.215240</td>\n",
       "      <td>0.092720</td>\n",
       "      <td>-0.881949</td>\n",
       "      <td>0.099739</td>\n",
       "      <td>-0.153516</td>\n",
       "      <td>...</td>\n",
       "      <td>0.684150</td>\n",
       "      <td>-0.050237</td>\n",
       "      <td>0.659385</td>\n",
       "      <td>0.950390</td>\n",
       "      <td>-2.264741</td>\n",
       "      <td>-0.934321</td>\n",
       "      <td>-0.207092</td>\n",
       "      <td>-1.429908</td>\n",
       "      <td>0.477449</td>\n",
       "      <td>-0.143864</td>\n",
       "    </tr>\n",
       "    <tr>\n",
       "      <th>800</th>\n",
       "      <td>-0.534724</td>\n",
       "      <td>0.341340</td>\n",
       "      <td>-0.318392</td>\n",
       "      <td>1.233363</td>\n",
       "      <td>1.778518</td>\n",
       "      <td>0.298750</td>\n",
       "      <td>0.083038</td>\n",
       "      <td>0.104657</td>\n",
       "      <td>0.121582</td>\n",
       "      <td>1.150535</td>\n",
       "      <td>...</td>\n",
       "      <td>2.105502</td>\n",
       "      <td>0.100787</td>\n",
       "      <td>0.150310</td>\n",
       "      <td>0.796843</td>\n",
       "      <td>0.088543</td>\n",
       "      <td>1.044029</td>\n",
       "      <td>-0.691462</td>\n",
       "      <td>0.027791</td>\n",
       "      <td>-0.467562</td>\n",
       "      <td>1.088671</td>\n",
       "    </tr>\n",
       "    <tr>\n",
       "      <th>3671</th>\n",
       "      <td>-0.366200</td>\n",
       "      <td>1.081039</td>\n",
       "      <td>-0.920495</td>\n",
       "      <td>-1.060692</td>\n",
       "      <td>-0.616689</td>\n",
       "      <td>0.923926</td>\n",
       "      <td>1.178280</td>\n",
       "      <td>-2.049797</td>\n",
       "      <td>-0.133985</td>\n",
       "      <td>-1.437462</td>\n",
       "      <td>...</td>\n",
       "      <td>0.375930</td>\n",
       "      <td>0.799287</td>\n",
       "      <td>-1.524107</td>\n",
       "      <td>-0.213573</td>\n",
       "      <td>1.841831</td>\n",
       "      <td>-0.235666</td>\n",
       "      <td>-1.623648</td>\n",
       "      <td>0.003545</td>\n",
       "      <td>2.453793</td>\n",
       "      <td>-0.826658</td>\n",
       "    </tr>\n",
       "    <tr>\n",
       "      <th>4193</th>\n",
       "      <td>-0.834782</td>\n",
       "      <td>1.471498</td>\n",
       "      <td>-1.414701</td>\n",
       "      <td>-0.704299</td>\n",
       "      <td>2.131088</td>\n",
       "      <td>-0.208189</td>\n",
       "      <td>0.823199</td>\n",
       "      <td>0.547557</td>\n",
       "      <td>0.462746</td>\n",
       "      <td>-1.556602</td>\n",
       "      <td>...</td>\n",
       "      <td>-1.605144</td>\n",
       "      <td>0.394171</td>\n",
       "      <td>0.414800</td>\n",
       "      <td>0.015313</td>\n",
       "      <td>-1.559552</td>\n",
       "      <td>0.776827</td>\n",
       "      <td>-1.919909</td>\n",
       "      <td>1.235952</td>\n",
       "      <td>-1.425568</td>\n",
       "      <td>0.749621</td>\n",
       "    </tr>\n",
       "  </tbody>\n",
       "</table>\n",
       "<p>5 rows × 30 columns</p>\n",
       "</div>"
      ],
      "text/plain": [
       "            x1        x2        x3        x4        x5        x6        x7  \\\n",
       "4227  0.274306 -2.243030  0.307393  2.279325 -0.849919 -0.499417  0.063387   \n",
       "4676 -0.110889 -2.308274 -0.306657 -2.797217  0.744218 -1.215240  0.092720   \n",
       "800  -0.534724  0.341340 -0.318392  1.233363  1.778518  0.298750  0.083038   \n",
       "3671 -0.366200  1.081039 -0.920495 -1.060692 -0.616689  0.923926  1.178280   \n",
       "4193 -0.834782  1.471498 -1.414701 -0.704299  2.131088 -0.208189  0.823199   \n",
       "\n",
       "            x8        x9       x10  ...       x21       x22       x23  \\\n",
       "4227  0.322236 -0.279113 -1.485297  ... -0.435550  0.016456 -0.478773   \n",
       "4676 -0.881949  0.099739 -0.153516  ...  0.684150 -0.050237  0.659385   \n",
       "800   0.104657  0.121582  1.150535  ...  2.105502  0.100787  0.150310   \n",
       "3671 -2.049797 -0.133985 -1.437462  ...  0.375930  0.799287 -1.524107   \n",
       "4193  0.547557  0.462746 -1.556602  ... -1.605144  0.394171  0.414800   \n",
       "\n",
       "           x24       x25       x26       x27       x28       x29       x30  \n",
       "4227  0.826978  0.348374  0.203044 -0.974020  1.133163  0.644459  1.026561  \n",
       "4676  0.950390 -2.264741 -0.934321 -0.207092 -1.429908  0.477449 -0.143864  \n",
       "800   0.796843  0.088543  1.044029 -0.691462  0.027791 -0.467562  1.088671  \n",
       "3671 -0.213573  1.841831 -0.235666 -1.623648  0.003545  2.453793 -0.826658  \n",
       "4193  0.015313 -1.559552  0.776827 -1.919909  1.235952 -1.425568  0.749621  \n",
       "\n",
       "[5 rows x 30 columns]"
      ]
     },
     "execution_count": 17,
     "metadata": {},
     "output_type": "execute_result"
    }
   ],
   "source": [
    "xtrain.head()"
   ]
  },
  {
   "cell_type": "code",
   "execution_count": 18,
   "metadata": {},
   "outputs": [
    {
     "data": {
      "text/html": [
       "<div>\n",
       "<style scoped>\n",
       "    .dataframe tbody tr th:only-of-type {\n",
       "        vertical-align: middle;\n",
       "    }\n",
       "\n",
       "    .dataframe tbody tr th {\n",
       "        vertical-align: top;\n",
       "    }\n",
       "\n",
       "    .dataframe thead th {\n",
       "        text-align: right;\n",
       "    }\n",
       "</style>\n",
       "<table border=\"1\" class=\"dataframe\">\n",
       "  <thead>\n",
       "    <tr style=\"text-align: right;\">\n",
       "      <th></th>\n",
       "      <th>Y</th>\n",
       "    </tr>\n",
       "  </thead>\n",
       "  <tbody>\n",
       "    <tr>\n",
       "      <th>4227</th>\n",
       "      <td>421.295025</td>\n",
       "    </tr>\n",
       "    <tr>\n",
       "      <th>4676</th>\n",
       "      <td>-469.452726</td>\n",
       "    </tr>\n",
       "    <tr>\n",
       "      <th>800</th>\n",
       "      <td>42.172815</td>\n",
       "    </tr>\n",
       "    <tr>\n",
       "      <th>3671</th>\n",
       "      <td>114.083914</td>\n",
       "    </tr>\n",
       "    <tr>\n",
       "      <th>4193</th>\n",
       "      <td>-217.535707</td>\n",
       "    </tr>\n",
       "  </tbody>\n",
       "</table>\n",
       "</div>"
      ],
      "text/plain": [
       "               Y\n",
       "4227  421.295025\n",
       "4676 -469.452726\n",
       "800    42.172815\n",
       "3671  114.083914\n",
       "4193 -217.535707"
      ]
     },
     "execution_count": 18,
     "metadata": {},
     "output_type": "execute_result"
    }
   ],
   "source": [
    "ytrain.head()"
   ]
  },
  {
   "cell_type": "code",
   "execution_count": 19,
   "metadata": {},
   "outputs": [
    {
     "data": {
      "text/html": [
       "<div>\n",
       "<style scoped>\n",
       "    .dataframe tbody tr th:only-of-type {\n",
       "        vertical-align: middle;\n",
       "    }\n",
       "\n",
       "    .dataframe tbody tr th {\n",
       "        vertical-align: top;\n",
       "    }\n",
       "\n",
       "    .dataframe thead th {\n",
       "        text-align: right;\n",
       "    }\n",
       "</style>\n",
       "<table border=\"1\" class=\"dataframe\">\n",
       "  <thead>\n",
       "    <tr style=\"text-align: right;\">\n",
       "      <th></th>\n",
       "      <th>x1</th>\n",
       "      <th>x2</th>\n",
       "      <th>x3</th>\n",
       "      <th>x4</th>\n",
       "      <th>x5</th>\n",
       "      <th>x6</th>\n",
       "      <th>x7</th>\n",
       "      <th>x8</th>\n",
       "      <th>x9</th>\n",
       "      <th>x10</th>\n",
       "      <th>...</th>\n",
       "      <th>x21</th>\n",
       "      <th>x22</th>\n",
       "      <th>x23</th>\n",
       "      <th>x24</th>\n",
       "      <th>x25</th>\n",
       "      <th>x26</th>\n",
       "      <th>x27</th>\n",
       "      <th>x28</th>\n",
       "      <th>x29</th>\n",
       "      <th>x30</th>\n",
       "    </tr>\n",
       "  </thead>\n",
       "  <tbody>\n",
       "    <tr>\n",
       "      <th>1501</th>\n",
       "      <td>0.523841</td>\n",
       "      <td>0.380018</td>\n",
       "      <td>1.397668</td>\n",
       "      <td>1.832757</td>\n",
       "      <td>-0.050539</td>\n",
       "      <td>-0.370155</td>\n",
       "      <td>-0.415394</td>\n",
       "      <td>-1.015830</td>\n",
       "      <td>-0.468665</td>\n",
       "      <td>1.118904</td>\n",
       "      <td>...</td>\n",
       "      <td>-1.087076</td>\n",
       "      <td>0.280815</td>\n",
       "      <td>1.197157</td>\n",
       "      <td>-0.330182</td>\n",
       "      <td>-0.384110</td>\n",
       "      <td>0.456972</td>\n",
       "      <td>0.408793</td>\n",
       "      <td>0.229924</td>\n",
       "      <td>0.065080</td>\n",
       "      <td>-0.460325</td>\n",
       "    </tr>\n",
       "    <tr>\n",
       "      <th>2586</th>\n",
       "      <td>0.427962</td>\n",
       "      <td>0.736934</td>\n",
       "      <td>-1.337873</td>\n",
       "      <td>-0.286005</td>\n",
       "      <td>1.022151</td>\n",
       "      <td>-1.001614</td>\n",
       "      <td>1.835519</td>\n",
       "      <td>-1.545811</td>\n",
       "      <td>0.770498</td>\n",
       "      <td>0.293343</td>\n",
       "      <td>...</td>\n",
       "      <td>-0.316910</td>\n",
       "      <td>0.912012</td>\n",
       "      <td>-0.200186</td>\n",
       "      <td>0.895191</td>\n",
       "      <td>-1.340780</td>\n",
       "      <td>-0.398981</td>\n",
       "      <td>-1.299802</td>\n",
       "      <td>-1.160043</td>\n",
       "      <td>0.238474</td>\n",
       "      <td>-0.353788</td>\n",
       "    </tr>\n",
       "    <tr>\n",
       "      <th>2653</th>\n",
       "      <td>-1.237790</td>\n",
       "      <td>0.022987</td>\n",
       "      <td>0.591727</td>\n",
       "      <td>0.153331</td>\n",
       "      <td>-1.080162</td>\n",
       "      <td>0.695919</td>\n",
       "      <td>-0.224618</td>\n",
       "      <td>-1.372016</td>\n",
       "      <td>-0.465166</td>\n",
       "      <td>2.577988</td>\n",
       "      <td>...</td>\n",
       "      <td>0.420588</td>\n",
       "      <td>-0.927035</td>\n",
       "      <td>-1.260994</td>\n",
       "      <td>-0.041976</td>\n",
       "      <td>0.559996</td>\n",
       "      <td>-0.025339</td>\n",
       "      <td>0.715960</td>\n",
       "      <td>-2.211627</td>\n",
       "      <td>-0.158048</td>\n",
       "      <td>0.088334</td>\n",
       "    </tr>\n",
       "    <tr>\n",
       "      <th>1055</th>\n",
       "      <td>1.163302</td>\n",
       "      <td>0.829281</td>\n",
       "      <td>-0.052936</td>\n",
       "      <td>0.871349</td>\n",
       "      <td>0.526932</td>\n",
       "      <td>-0.469475</td>\n",
       "      <td>0.681055</td>\n",
       "      <td>2.525169</td>\n",
       "      <td>0.805937</td>\n",
       "      <td>-0.311984</td>\n",
       "      <td>...</td>\n",
       "      <td>-0.363881</td>\n",
       "      <td>-1.270352</td>\n",
       "      <td>-0.114835</td>\n",
       "      <td>-0.838927</td>\n",
       "      <td>0.522602</td>\n",
       "      <td>0.531030</td>\n",
       "      <td>-0.113249</td>\n",
       "      <td>-0.130759</td>\n",
       "      <td>-1.530358</td>\n",
       "      <td>0.355058</td>\n",
       "    </tr>\n",
       "    <tr>\n",
       "      <th>705</th>\n",
       "      <td>-0.916867</td>\n",
       "      <td>-0.873641</td>\n",
       "      <td>0.964425</td>\n",
       "      <td>-3.404521</td>\n",
       "      <td>-0.352093</td>\n",
       "      <td>0.141089</td>\n",
       "      <td>0.059867</td>\n",
       "      <td>-0.401822</td>\n",
       "      <td>0.274345</td>\n",
       "      <td>1.985234</td>\n",
       "      <td>...</td>\n",
       "      <td>-0.846910</td>\n",
       "      <td>1.259358</td>\n",
       "      <td>-0.624477</td>\n",
       "      <td>0.947502</td>\n",
       "      <td>0.249482</td>\n",
       "      <td>-0.340038</td>\n",
       "      <td>-0.624088</td>\n",
       "      <td>0.983280</td>\n",
       "      <td>1.321964</td>\n",
       "      <td>0.613101</td>\n",
       "    </tr>\n",
       "  </tbody>\n",
       "</table>\n",
       "<p>5 rows × 30 columns</p>\n",
       "</div>"
      ],
      "text/plain": [
       "            x1        x2        x3        x4        x5        x6        x7  \\\n",
       "1501  0.523841  0.380018  1.397668  1.832757 -0.050539 -0.370155 -0.415394   \n",
       "2586  0.427962  0.736934 -1.337873 -0.286005  1.022151 -1.001614  1.835519   \n",
       "2653 -1.237790  0.022987  0.591727  0.153331 -1.080162  0.695919 -0.224618   \n",
       "1055  1.163302  0.829281 -0.052936  0.871349  0.526932 -0.469475  0.681055   \n",
       "705  -0.916867 -0.873641  0.964425 -3.404521 -0.352093  0.141089  0.059867   \n",
       "\n",
       "            x8        x9       x10  ...       x21       x22       x23  \\\n",
       "1501 -1.015830 -0.468665  1.118904  ... -1.087076  0.280815  1.197157   \n",
       "2586 -1.545811  0.770498  0.293343  ... -0.316910  0.912012 -0.200186   \n",
       "2653 -1.372016 -0.465166  2.577988  ...  0.420588 -0.927035 -1.260994   \n",
       "1055  2.525169  0.805937 -0.311984  ... -0.363881 -1.270352 -0.114835   \n",
       "705  -0.401822  0.274345  1.985234  ... -0.846910  1.259358 -0.624477   \n",
       "\n",
       "           x24       x25       x26       x27       x28       x29       x30  \n",
       "1501 -0.330182 -0.384110  0.456972  0.408793  0.229924  0.065080 -0.460325  \n",
       "2586  0.895191 -1.340780 -0.398981 -1.299802 -1.160043  0.238474 -0.353788  \n",
       "2653 -0.041976  0.559996 -0.025339  0.715960 -2.211627 -0.158048  0.088334  \n",
       "1055 -0.838927  0.522602  0.531030 -0.113249 -0.130759 -1.530358  0.355058  \n",
       "705   0.947502  0.249482 -0.340038 -0.624088  0.983280  1.321964  0.613101  \n",
       "\n",
       "[5 rows x 30 columns]"
      ]
     },
     "execution_count": 19,
     "metadata": {},
     "output_type": "execute_result"
    }
   ],
   "source": [
    "xtest.head()"
   ]
  },
  {
   "cell_type": "code",
   "execution_count": 20,
   "metadata": {},
   "outputs": [
    {
     "data": {
      "text/html": [
       "<div>\n",
       "<style scoped>\n",
       "    .dataframe tbody tr th:only-of-type {\n",
       "        vertical-align: middle;\n",
       "    }\n",
       "\n",
       "    .dataframe tbody tr th {\n",
       "        vertical-align: top;\n",
       "    }\n",
       "\n",
       "    .dataframe thead th {\n",
       "        text-align: right;\n",
       "    }\n",
       "</style>\n",
       "<table border=\"1\" class=\"dataframe\">\n",
       "  <thead>\n",
       "    <tr style=\"text-align: right;\">\n",
       "      <th></th>\n",
       "      <th>Y</th>\n",
       "    </tr>\n",
       "  </thead>\n",
       "  <tbody>\n",
       "    <tr>\n",
       "      <th>1501</th>\n",
       "      <td>297.782677</td>\n",
       "    </tr>\n",
       "    <tr>\n",
       "      <th>2586</th>\n",
       "      <td>-55.418700</td>\n",
       "    </tr>\n",
       "    <tr>\n",
       "      <th>2653</th>\n",
       "      <td>-181.896454</td>\n",
       "    </tr>\n",
       "    <tr>\n",
       "      <th>1055</th>\n",
       "      <td>210.251382</td>\n",
       "    </tr>\n",
       "    <tr>\n",
       "      <th>705</th>\n",
       "      <td>188.412050</td>\n",
       "    </tr>\n",
       "  </tbody>\n",
       "</table>\n",
       "</div>"
      ],
      "text/plain": [
       "               Y\n",
       "1501  297.782677\n",
       "2586  -55.418700\n",
       "2653 -181.896454\n",
       "1055  210.251382\n",
       "705   188.412050"
      ]
     },
     "execution_count": 20,
     "metadata": {},
     "output_type": "execute_result"
    }
   ],
   "source": [
    "ytest.head()"
   ]
  },
  {
   "cell_type": "code",
   "execution_count": 21,
   "metadata": {},
   "outputs": [
    {
     "data": {
      "text/plain": [
       "(4000, 30)"
      ]
     },
     "execution_count": 21,
     "metadata": {},
     "output_type": "execute_result"
    }
   ],
   "source": [
    "xtrain.shape"
   ]
  },
  {
   "cell_type": "code",
   "execution_count": 22,
   "metadata": {},
   "outputs": [
    {
     "data": {
      "text/plain": [
       "(1000, 30)"
      ]
     },
     "execution_count": 22,
     "metadata": {},
     "output_type": "execute_result"
    }
   ],
   "source": [
    "xtest.shape"
   ]
  },
  {
   "cell_type": "code",
   "execution_count": 24,
   "metadata": {},
   "outputs": [
    {
     "data": {
      "text/plain": [
       "30"
      ]
     },
     "execution_count": 24,
     "metadata": {},
     "output_type": "execute_result"
    }
   ],
   "source": [
    "xtrain.shape[1]"
   ]
  },
  {
   "cell_type": "markdown",
   "metadata": {},
   "source": [
    "### Create a neural network with Keras"
   ]
  },
  {
   "attachments": {
    "image.png": {
     "image/png": "[encoded data removed]"
    }
   },
   "cell_type": "markdown",
   "metadata": {},
   "source": [
    "![image.png](attachment:image.png)"
   ]
  },
  {
   "cell_type": "code",
   "execution_count": 23,
   "metadata": {},
   "outputs": [],
   "source": [
    "from keras.models import Sequential\n",
    "from keras.layers import Dense"
   ]
  },
  {
   "cell_type": "code",
   "execution_count": 25,
   "metadata": {},
   "outputs": [
    {
     "name": "stdout",
     "output_type": "stream",
     "text": [
      "WARNING:tensorflow:From d:\\Deep Learning 2_4 pm\\repository\\venv\\Lib\\site-packages\\keras\\src\\backend.py:873: The name tf.get_default_graph is deprecated. Please use tf.compat.v1.get_default_graph instead.\n",
      "\n"
     ]
    }
   ],
   "source": [
    "# Initalize Sequential model\n",
    "model = Sequential()\n",
    "\n",
    "# Hidden Layer 1\n",
    "model.add(Dense(64, activation='relu', input_dim=xtrain.shape[1]))\n",
    "# Hidden Layer 2\n",
    "model.add(Dense(32, activation='relu'))\n",
    "# Output Layer\n",
    "model.add(Dense(1, activation='linear'))"
   ]
  },
  {
   "cell_type": "code",
   "execution_count": 26,
   "metadata": {},
   "outputs": [
    {
     "name": "stdout",
     "output_type": "stream",
     "text": [
      "Model: \"sequential\"\n",
      "_________________________________________________________________\n",
      " Layer (type)                Output Shape              Param #   \n",
      "=================================================================\n",
      " dense (Dense)               (None, 64)                1984      \n",
      "                                                                 \n",
      " dense_1 (Dense)             (None, 32)                2080      \n",
      "                                                                 \n",
      " dense_2 (Dense)             (None, 1)                 33        \n",
      "                                                                 \n",
      "=================================================================\n",
      "Total params: 4097 (16.00 KB)\n",
      "Trainable params: 4097 (16.00 KB)\n",
      "Non-trainable params: 0 (0.00 Byte)\n",
      "_________________________________________________________________\n"
     ]
    }
   ],
   "source": [
    "model.summary()"
   ]
  },
  {
   "cell_type": "markdown",
   "metadata": {},
   "source": [
    "### Compile the model"
   ]
  },
  {
   "cell_type": "code",
   "execution_count": 27,
   "metadata": {},
   "outputs": [
    {
     "name": "stdout",
     "output_type": "stream",
     "text": [
      "WARNING:tensorflow:From d:\\Deep Learning 2_4 pm\\repository\\venv\\Lib\\site-packages\\keras\\src\\optimizers\\__init__.py:309: The name tf.train.Optimizer is deprecated. Please use tf.compat.v1.train.Optimizer instead.\n",
      "\n"
     ]
    }
   ],
   "source": [
    "model.compile(optimizer='adam', loss='mse', metrics=['mae'])"
   ]
  },
  {
   "cell_type": "markdown",
   "metadata": {},
   "source": [
    "### Training the neural network"
   ]
  },
  {
   "attachments": {
    "image.png": {
     "image/png": "[encoded data removed]"
    }
   },
   "cell_type": "markdown",
   "metadata": {},
   "source": [
    "![image.png](attachment:image.png)"
   ]
  },
  {
   "cell_type": "code",
   "execution_count": 28,
   "metadata": {},
   "outputs": [
    {
     "name": "stdout",
     "output_type": "stream",
     "text": [
      "Epoch 1/100\n",
      "WARNING:tensorflow:From d:\\Deep Learning 2_4 pm\\repository\\venv\\Lib\\site-packages\\keras\\src\\utils\\tf_utils.py:492: The name tf.ragged.RaggedTensorValue is deprecated. Please use tf.compat.v1.ragged.RaggedTensorValue instead.\n",
      "\n",
      "WARNING:tensorflow:From d:\\Deep Learning 2_4 pm\\repository\\venv\\Lib\\site-packages\\keras\\src\\engine\\base_layer_utils.py:384: The name tf.executing_eagerly_outside_functions is deprecated. Please use tf.compat.v1.executing_eagerly_outside_functions instead.\n",
      "\n",
      "100/100 [==============================] - 1s 3ms/step - loss: 66842.6250 - mae: 207.1838 - val_loss: 67974.7031 - val_mae: 207.8675\n",
      "Epoch 2/100\n",
      "100/100 [==============================] - 0s 1ms/step - loss: 55783.5156 - mae: 187.6497 - val_loss: 43690.7305 - val_mae: 163.8895\n",
      "Epoch 3/100\n",
      "100/100 [==============================] - 0s 1ms/step - loss: 24605.1250 - mae: 113.9529 - val_loss: 10062.9922 - val_mae: 68.0423\n",
      "Epoch 4/100\n",
      "100/100 [==============================] - 0s 1ms/step - loss: 4027.8474 - mae: 38.6848 - val_loss: 1406.0272 - val_mae: 25.5652\n",
      "Epoch 5/100\n",
      "100/100 [==============================] - 0s 2ms/step - loss: 928.2615 - mae: 22.3258 - val_loss: 730.8923 - val_mae: 19.8667\n",
      "Epoch 6/100\n",
      "100/100 [==============================] - 0s 1ms/step - loss: 551.8550 - mae: 17.6260 - val_loss: 477.3221 - val_mae: 16.4920\n",
      "Epoch 7/100\n",
      "100/100 [==============================] - 0s 1ms/step - loss: 421.5207 - mae: 15.7880 - val_loss: 413.0314 - val_mae: 15.5459\n",
      "Epoch 8/100\n",
      "100/100 [==============================] - 0s 2ms/step - loss: 383.8740 - mae: 15.1154 - val_loss: 380.0482 - val_mae: 15.3940\n",
      "Epoch 9/100\n",
      "100/100 [==============================] - 0s 1ms/step - loss: 360.0838 - mae: 14.7500 - val_loss: 363.9630 - val_mae: 14.8334\n",
      "Epoch 10/100\n",
      "100/100 [==============================] - 0s 1ms/step - loss: 341.0080 - mae: 14.3206 - val_loss: 340.4325 - val_mae: 14.4425\n",
      "Epoch 11/100\n",
      "100/100 [==============================] - 0s 2ms/step - loss: 321.6634 - mae: 13.9261 - val_loss: 337.0250 - val_mae: 14.0450\n",
      "Epoch 12/100\n",
      "100/100 [==============================] - 0s 2ms/step - loss: 308.3706 - mae: 13.5705 - val_loss: 308.9145 - val_mae: 13.6864\n",
      "Epoch 13/100\n",
      "100/100 [==============================] - 0s 1ms/step - loss: 288.3840 - mae: 13.1397 - val_loss: 302.0506 - val_mae: 13.4205\n",
      "Epoch 14/100\n",
      "100/100 [==============================] - 0s 1ms/step - loss: 272.2716 - mae: 12.7178 - val_loss: 285.3566 - val_mae: 13.0823\n",
      "Epoch 15/100\n",
      "100/100 [==============================] - 0s 1ms/step - loss: 257.6608 - mae: 12.4242 - val_loss: 268.7871 - val_mae: 12.7627\n",
      "Epoch 16/100\n",
      "100/100 [==============================] - 0s 1ms/step - loss: 241.0636 - mae: 12.0041 - val_loss: 253.8037 - val_mae: 12.4895\n",
      "Epoch 17/100\n",
      "100/100 [==============================] - 0s 1ms/step - loss: 226.7405 - mae: 11.6658 - val_loss: 239.8755 - val_mae: 12.2068\n",
      "Epoch 18/100\n",
      "100/100 [==============================] - 0s 1ms/step - loss: 214.7392 - mae: 11.2938 - val_loss: 229.8305 - val_mae: 11.9436\n",
      "Epoch 19/100\n",
      "100/100 [==============================] - 0s 1ms/step - loss: 201.1239 - mae: 10.9763 - val_loss: 220.4496 - val_mae: 11.7974\n",
      "Epoch 20/100\n",
      "100/100 [==============================] - 0s 1ms/step - loss: 188.8848 - mae: 10.6217 - val_loss: 218.8573 - val_mae: 11.7306\n",
      "Epoch 21/100\n",
      "100/100 [==============================] - 0s 1ms/step - loss: 176.7387 - mae: 10.2923 - val_loss: 200.0742 - val_mae: 11.2532\n",
      "Epoch 22/100\n",
      "100/100 [==============================] - 0s 1ms/step - loss: 164.9925 - mae: 9.9551 - val_loss: 190.8508 - val_mae: 10.9983\n",
      "Epoch 23/100\n",
      "100/100 [==============================] - 0s 1ms/step - loss: 156.4238 - mae: 9.7171 - val_loss: 182.2572 - val_mae: 10.6911\n",
      "Epoch 24/100\n",
      "100/100 [==============================] - 0s 1ms/step - loss: 148.6899 - mae: 9.4711 - val_loss: 179.9428 - val_mae: 10.6524\n",
      "Epoch 25/100\n",
      "100/100 [==============================] - 0s 1ms/step - loss: 139.8975 - mae: 9.1323 - val_loss: 169.0249 - val_mae: 10.4142\n",
      "Epoch 26/100\n",
      "100/100 [==============================] - 0s 1ms/step - loss: 131.9755 - mae: 8.9501 - val_loss: 163.6869 - val_mae: 10.2348\n",
      "Epoch 27/100\n",
      "100/100 [==============================] - 0s 1ms/step - loss: 125.7081 - mae: 8.7725 - val_loss: 158.8390 - val_mae: 10.0954\n",
      "Epoch 28/100\n",
      "100/100 [==============================] - 0s 1ms/step - loss: 118.9214 - mae: 8.5120 - val_loss: 156.8647 - val_mae: 10.0284\n",
      "Epoch 29/100\n",
      "100/100 [==============================] - 0s 1ms/step - loss: 114.4110 - mae: 8.3718 - val_loss: 150.6684 - val_mae: 9.8351\n",
      "Epoch 30/100\n",
      "100/100 [==============================] - 0s 1ms/step - loss: 110.9433 - mae: 8.2673 - val_loss: 147.3660 - val_mae: 9.7338\n",
      "Epoch 31/100\n",
      "100/100 [==============================] - 0s 1ms/step - loss: 105.2658 - mae: 8.0336 - val_loss: 143.5267 - val_mae: 9.6242\n",
      "Epoch 32/100\n",
      "100/100 [==============================] - 0s 1ms/step - loss: 103.4434 - mae: 7.9990 - val_loss: 140.9227 - val_mae: 9.5104\n",
      "Epoch 33/100\n",
      "100/100 [==============================] - 0s 1ms/step - loss: 99.5880 - mae: 7.8108 - val_loss: 140.1526 - val_mae: 9.4708\n",
      "Epoch 34/100\n",
      "100/100 [==============================] - 0s 1ms/step - loss: 96.6848 - mae: 7.7239 - val_loss: 142.4838 - val_mae: 9.5119\n",
      "Epoch 35/100\n",
      "100/100 [==============================] - 0s 2ms/step - loss: 95.5330 - mae: 7.6852 - val_loss: 137.1979 - val_mae: 9.3538\n",
      "Epoch 36/100\n",
      "100/100 [==============================] - 0s 1ms/step - loss: 92.4731 - mae: 7.5692 - val_loss: 136.3619 - val_mae: 9.3699\n",
      "Epoch 37/100\n",
      "100/100 [==============================] - 0s 1ms/step - loss: 92.3683 - mae: 7.5609 - val_loss: 135.4313 - val_mae: 9.3229\n",
      "Epoch 38/100\n",
      "100/100 [==============================] - 0s 1ms/step - loss: 90.3088 - mae: 7.4788 - val_loss: 135.1431 - val_mae: 9.2938\n",
      "Epoch 39/100\n",
      "100/100 [==============================] - 0s 1ms/step - loss: 88.7913 - mae: 7.3875 - val_loss: 133.6012 - val_mae: 9.2517\n",
      "Epoch 40/100\n",
      "100/100 [==============================] - 0s 1ms/step - loss: 87.3635 - mae: 7.3519 - val_loss: 130.8557 - val_mae: 9.1829\n",
      "Epoch 41/100\n",
      "100/100 [==============================] - 0s 2ms/step - loss: 86.5230 - mae: 7.3402 - val_loss: 134.2207 - val_mae: 9.2518\n",
      "Epoch 42/100\n",
      "100/100 [==============================] - 0s 1ms/step - loss: 84.8669 - mae: 7.2281 - val_loss: 131.2717 - val_mae: 9.2101\n",
      "Epoch 43/100\n",
      "100/100 [==============================] - 0s 2ms/step - loss: 85.0724 - mae: 7.2735 - val_loss: 130.7335 - val_mae: 9.1666\n",
      "Epoch 44/100\n",
      "100/100 [==============================] - 0s 1ms/step - loss: 82.5375 - mae: 7.1566 - val_loss: 132.4915 - val_mae: 9.2518\n",
      "Epoch 45/100\n",
      "100/100 [==============================] - 0s 1ms/step - loss: 82.2593 - mae: 7.1111 - val_loss: 133.7429 - val_mae: 9.2362\n",
      "Epoch 46/100\n",
      "100/100 [==============================] - 0s 1ms/step - loss: 81.4045 - mae: 7.0992 - val_loss: 130.6704 - val_mae: 9.1631\n",
      "Epoch 47/100\n",
      "100/100 [==============================] - 0s 2ms/step - loss: 80.7510 - mae: 7.0802 - val_loss: 134.6335 - val_mae: 9.3201\n",
      "Epoch 48/100\n",
      "100/100 [==============================] - 0s 1ms/step - loss: 80.5925 - mae: 7.0563 - val_loss: 132.4771 - val_mae: 9.1740\n",
      "Epoch 49/100\n",
      "100/100 [==============================] - 0s 1ms/step - loss: 79.5565 - mae: 6.9991 - val_loss: 140.8329 - val_mae: 9.5429\n",
      "Epoch 50/100\n",
      "100/100 [==============================] - 0s 1ms/step - loss: 79.8875 - mae: 6.9855 - val_loss: 132.2058 - val_mae: 9.2008\n",
      "Epoch 51/100\n",
      "100/100 [==============================] - 0s 1ms/step - loss: 77.5689 - mae: 6.8917 - val_loss: 136.3925 - val_mae: 9.4257\n",
      "Epoch 52/100\n",
      "100/100 [==============================] - 0s 1ms/step - loss: 77.6264 - mae: 6.8916 - val_loss: 131.0730 - val_mae: 9.1887\n",
      "Epoch 53/100\n",
      "100/100 [==============================] - 0s 1ms/step - loss: 76.3713 - mae: 6.8402 - val_loss: 130.3276 - val_mae: 9.1215\n",
      "Epoch 54/100\n",
      "100/100 [==============================] - 0s 1ms/step - loss: 75.7433 - mae: 6.8201 - val_loss: 134.4477 - val_mae: 9.2595\n",
      "Epoch 55/100\n",
      "100/100 [==============================] - 0s 1ms/step - loss: 75.3704 - mae: 6.8398 - val_loss: 129.7419 - val_mae: 9.1217\n",
      "Epoch 56/100\n",
      "100/100 [==============================] - 0s 1ms/step - loss: 74.4309 - mae: 6.7406 - val_loss: 147.1800 - val_mae: 9.6532\n",
      "Epoch 57/100\n",
      "100/100 [==============================] - 0s 2ms/step - loss: 74.8521 - mae: 6.7765 - val_loss: 130.9838 - val_mae: 9.1855\n",
      "Epoch 58/100\n",
      "100/100 [==============================] - 0s 1ms/step - loss: 75.0424 - mae: 6.8051 - val_loss: 134.0786 - val_mae: 9.3032\n",
      "Epoch 59/100\n",
      "100/100 [==============================] - 0s 2ms/step - loss: 73.3498 - mae: 6.7000 - val_loss: 134.6748 - val_mae: 9.2851\n",
      "Epoch 60/100\n",
      "100/100 [==============================] - 0s 2ms/step - loss: 72.6337 - mae: 6.6878 - val_loss: 134.6184 - val_mae: 9.2563\n",
      "Epoch 61/100\n",
      "100/100 [==============================] - 0s 2ms/step - loss: 73.0116 - mae: 6.6897 - val_loss: 131.2971 - val_mae: 9.1896\n",
      "Epoch 62/100\n",
      "100/100 [==============================] - 0s 1ms/step - loss: 72.0362 - mae: 6.6678 - val_loss: 134.3431 - val_mae: 9.2490\n",
      "Epoch 63/100\n",
      "100/100 [==============================] - 0s 1ms/step - loss: 72.9278 - mae: 6.7191 - val_loss: 137.5988 - val_mae: 9.3624\n",
      "Epoch 64/100\n",
      "100/100 [==============================] - 0s 1ms/step - loss: 70.3022 - mae: 6.5891 - val_loss: 135.4082 - val_mae: 9.3850\n",
      "Epoch 65/100\n",
      "100/100 [==============================] - 0s 1ms/step - loss: 71.3908 - mae: 6.5954 - val_loss: 136.0724 - val_mae: 9.3225\n",
      "Epoch 66/100\n",
      "100/100 [==============================] - 0s 1ms/step - loss: 70.7133 - mae: 6.6314 - val_loss: 132.7822 - val_mae: 9.3288\n",
      "Epoch 67/100\n",
      "100/100 [==============================] - 0s 1ms/step - loss: 72.3029 - mae: 6.6481 - val_loss: 133.2748 - val_mae: 9.2289\n",
      "Epoch 68/100\n",
      "100/100 [==============================] - 0s 1ms/step - loss: 68.2770 - mae: 6.4710 - val_loss: 136.5920 - val_mae: 9.4651\n",
      "Epoch 69/100\n",
      "100/100 [==============================] - 0s 1ms/step - loss: 69.1121 - mae: 6.5314 - val_loss: 137.4960 - val_mae: 9.4478\n",
      "Epoch 70/100\n",
      "100/100 [==============================] - 0s 1ms/step - loss: 68.9759 - mae: 6.5204 - val_loss: 133.9539 - val_mae: 9.2405\n",
      "Epoch 71/100\n",
      "100/100 [==============================] - 0s 1ms/step - loss: 68.4690 - mae: 6.4873 - val_loss: 142.9968 - val_mae: 9.6495\n",
      "Epoch 72/100\n",
      "100/100 [==============================] - 0s 1ms/step - loss: 69.8361 - mae: 6.5545 - val_loss: 137.6356 - val_mae: 9.4370\n",
      "Epoch 73/100\n",
      "100/100 [==============================] - 0s 1ms/step - loss: 68.4993 - mae: 6.5084 - val_loss: 136.1873 - val_mae: 9.2993\n",
      "Epoch 74/100\n",
      "100/100 [==============================] - 0s 1ms/step - loss: 67.9054 - mae: 6.4287 - val_loss: 134.4331 - val_mae: 9.2948\n",
      "Epoch 75/100\n",
      "100/100 [==============================] - 0s 1ms/step - loss: 67.6607 - mae: 6.4344 - val_loss: 135.6454 - val_mae: 9.3025\n",
      "Epoch 76/100\n",
      "100/100 [==============================] - 0s 1ms/step - loss: 67.0377 - mae: 6.4130 - val_loss: 140.2775 - val_mae: 9.4841\n",
      "Epoch 77/100\n",
      "100/100 [==============================] - 0s 1ms/step - loss: 68.8351 - mae: 6.4503 - val_loss: 134.5362 - val_mae: 9.3778\n",
      "Epoch 78/100\n",
      "100/100 [==============================] - 0s 1ms/step - loss: 66.2616 - mae: 6.3414 - val_loss: 137.4423 - val_mae: 9.3907\n",
      "Epoch 79/100\n",
      "100/100 [==============================] - 0s 1ms/step - loss: 65.3605 - mae: 6.3250 - val_loss: 137.3742 - val_mae: 9.4239\n",
      "Epoch 80/100\n",
      "100/100 [==============================] - 0s 1ms/step - loss: 66.1653 - mae: 6.3626 - val_loss: 140.2473 - val_mae: 9.5396\n",
      "Epoch 81/100\n",
      "100/100 [==============================] - 0s 1ms/step - loss: 64.7678 - mae: 6.3099 - val_loss: 135.8340 - val_mae: 9.3173\n",
      "Epoch 82/100\n",
      "100/100 [==============================] - 0s 1ms/step - loss: 64.2024 - mae: 6.2824 - val_loss: 153.2652 - val_mae: 9.9412\n",
      "Epoch 83/100\n",
      "100/100 [==============================] - 0s 1ms/step - loss: 65.4795 - mae: 6.3211 - val_loss: 139.2299 - val_mae: 9.4298\n",
      "Epoch 84/100\n",
      "100/100 [==============================] - 0s 1ms/step - loss: 64.2337 - mae: 6.2585 - val_loss: 135.4644 - val_mae: 9.4169\n",
      "Epoch 85/100\n",
      "100/100 [==============================] - 0s 1ms/step - loss: 63.4272 - mae: 6.2037 - val_loss: 139.1456 - val_mae: 9.5569\n",
      "Epoch 86/100\n",
      "100/100 [==============================] - 0s 1ms/step - loss: 63.3968 - mae: 6.2537 - val_loss: 140.8527 - val_mae: 9.5419\n",
      "Epoch 87/100\n",
      "100/100 [==============================] - 0s 1ms/step - loss: 64.2941 - mae: 6.2641 - val_loss: 136.5177 - val_mae: 9.3555\n",
      "Epoch 88/100\n",
      "100/100 [==============================] - 0s 1ms/step - loss: 62.8633 - mae: 6.2164 - val_loss: 146.7099 - val_mae: 9.6692\n",
      "Epoch 89/100\n",
      "100/100 [==============================] - 0s 1ms/step - loss: 62.4831 - mae: 6.2005 - val_loss: 138.6975 - val_mae: 9.4644\n",
      "Epoch 90/100\n",
      "100/100 [==============================] - 0s 1ms/step - loss: 62.3358 - mae: 6.1486 - val_loss: 140.4380 - val_mae: 9.4444\n",
      "Epoch 91/100\n",
      "100/100 [==============================] - 0s 1ms/step - loss: 62.3130 - mae: 6.1750 - val_loss: 140.2903 - val_mae: 9.5328\n",
      "Epoch 92/100\n",
      "100/100 [==============================] - 0s 1ms/step - loss: 61.4607 - mae: 6.1279 - val_loss: 139.7158 - val_mae: 9.4762\n",
      "Epoch 93/100\n",
      "100/100 [==============================] - 0s 1ms/step - loss: 61.6146 - mae: 6.1710 - val_loss: 138.9702 - val_mae: 9.5410\n",
      "Epoch 94/100\n",
      "100/100 [==============================] - 0s 1ms/step - loss: 61.9317 - mae: 6.1395 - val_loss: 139.8981 - val_mae: 9.5274\n",
      "Epoch 95/100\n",
      "100/100 [==============================] - 0s 1ms/step - loss: 60.4436 - mae: 6.0801 - val_loss: 142.6349 - val_mae: 9.5842\n",
      "Epoch 96/100\n",
      "100/100 [==============================] - 0s 1ms/step - loss: 60.6173 - mae: 6.0609 - val_loss: 144.3984 - val_mae: 9.6347\n",
      "Epoch 97/100\n",
      "100/100 [==============================] - 0s 1ms/step - loss: 62.3136 - mae: 6.1706 - val_loss: 139.7144 - val_mae: 9.4992\n",
      "Epoch 98/100\n",
      "100/100 [==============================] - 0s 1ms/step - loss: 59.6411 - mae: 6.0304 - val_loss: 142.0593 - val_mae: 9.5655\n",
      "Epoch 99/100\n",
      "100/100 [==============================] - 0s 1ms/step - loss: 60.5618 - mae: 6.0942 - val_loss: 141.6327 - val_mae: 9.6418\n",
      "Epoch 100/100\n",
      "100/100 [==============================] - 0s 1ms/step - loss: 60.2390 - mae: 6.0585 - val_loss: 143.0495 - val_mae: 9.5845\n"
     ]
    }
   ],
   "source": [
    "hist = model.fit(xtrain, ytrain, validation_split=0.2, epochs=100)"
   ]
  },
  {
   "cell_type": "code",
   "execution_count": 29,
   "metadata": {},
   "outputs": [
    {
     "data": {
      "text/plain": [
       "[66842.625,\n",
       " 55783.515625,\n",
       " 24605.125,\n",
       " 4027.847412109375,\n",
       " 928.261474609375,\n",
       " 551.85498046875,\n",
       " 421.52069091796875,\n",
       " 383.8740234375,\n",
       " 360.08380126953125,\n",
       " 341.00799560546875,\n",
       " 321.66339111328125,\n",
       " 308.3706359863281,\n",
       " 288.384033203125,\n",
       " 272.2715759277344,\n",
       " 257.6607666015625,\n",
       " 241.06362915039062,\n",
       " 226.74049377441406,\n",
       " 214.7392120361328,\n",
       " 201.12388610839844,\n",
       " 188.88475036621094,\n",
       " 176.73870849609375,\n",
       " 164.9924774169922,\n",
       " 156.42376708984375,\n",
       " 148.6898651123047,\n",
       " 139.89747619628906,\n",
       " 131.9755401611328,\n",
       " 125.7081069946289,\n",
       " 118.92138671875,\n",
       " 114.41102600097656,\n",
       " 110.94328308105469,\n",
       " 105.26575469970703,\n",
       " 103.4433822631836,\n",
       " 99.5879898071289,\n",
       " 96.684814453125,\n",
       " 95.53299713134766,\n",
       " 92.47310638427734,\n",
       " 92.36825561523438,\n",
       " 90.30880737304688,\n",
       " 88.791259765625,\n",
       " 87.36353302001953,\n",
       " 86.52297973632812,\n",
       " 84.86690521240234,\n",
       " 85.0723648071289,\n",
       " 82.5374526977539,\n",
       " 82.25931549072266,\n",
       " 81.40447998046875,\n",
       " 80.75100708007812,\n",
       " 80.59253692626953,\n",
       " 79.55652618408203,\n",
       " 79.887451171875,\n",
       " 77.56885528564453,\n",
       " 77.62637329101562,\n",
       " 76.37129211425781,\n",
       " 75.7432861328125,\n",
       " 75.37039184570312,\n",
       " 74.43093872070312,\n",
       " 74.85212707519531,\n",
       " 75.04236602783203,\n",
       " 73.34977722167969,\n",
       " 72.6336898803711,\n",
       " 73.0115737915039,\n",
       " 72.03616333007812,\n",
       " 72.92781066894531,\n",
       " 70.30219268798828,\n",
       " 71.3908462524414,\n",
       " 70.71333312988281,\n",
       " 72.30290222167969,\n",
       " 68.27698516845703,\n",
       " 69.112060546875,\n",
       " 68.97587585449219,\n",
       " 68.46904754638672,\n",
       " 69.8360595703125,\n",
       " 68.49925994873047,\n",
       " 67.90542602539062,\n",
       " 67.66069030761719,\n",
       " 67.03768920898438,\n",
       " 68.83509063720703,\n",
       " 66.26156616210938,\n",
       " 65.36054229736328,\n",
       " 66.16525268554688,\n",
       " 64.76780700683594,\n",
       " 64.20236206054688,\n",
       " 65.4794692993164,\n",
       " 64.23368835449219,\n",
       " 63.427215576171875,\n",
       " 63.39676284790039,\n",
       " 64.29405975341797,\n",
       " 62.863346099853516,\n",
       " 62.48310089111328,\n",
       " 62.33576965332031,\n",
       " 62.313018798828125,\n",
       " 61.460689544677734,\n",
       " 61.614627838134766,\n",
       " 61.931705474853516,\n",
       " 60.44358825683594,\n",
       " 60.61732482910156,\n",
       " 62.31364440917969,\n",
       " 59.64112854003906,\n",
       " 60.561767578125,\n",
       " 60.239044189453125]"
      ]
     },
     "execution_count": 29,
     "metadata": {},
     "output_type": "execute_result"
    }
   ],
   "source": [
    "hist.history['loss']"
   ]
  },
  {
   "cell_type": "code",
   "execution_count": 30,
   "metadata": {},
   "outputs": [
    {
     "data": {
      "text/plain": [
       "[67974.703125,\n",
       " 43690.73046875,\n",
       " 10062.9921875,\n",
       " 1406.0272216796875,\n",
       " 730.892333984375,\n",
       " 477.32208251953125,\n",
       " 413.03143310546875,\n",
       " 380.0482482910156,\n",
       " 363.9630432128906,\n",
       " 340.4324951171875,\n",
       " 337.0250244140625,\n",
       " 308.9144592285156,\n",
       " 302.0506286621094,\n",
       " 285.3565979003906,\n",
       " 268.7870788574219,\n",
       " 253.80369567871094,\n",
       " 239.87550354003906,\n",
       " 229.83050537109375,\n",
       " 220.4496307373047,\n",
       " 218.8572998046875,\n",
       " 200.07420349121094,\n",
       " 190.85076904296875,\n",
       " 182.2572479248047,\n",
       " 179.94281005859375,\n",
       " 169.0249481201172,\n",
       " 163.68690490722656,\n",
       " 158.83895874023438,\n",
       " 156.86465454101562,\n",
       " 150.66836547851562,\n",
       " 147.36602783203125,\n",
       " 143.52670288085938,\n",
       " 140.92269897460938,\n",
       " 140.15255737304688,\n",
       " 142.48382568359375,\n",
       " 137.19790649414062,\n",
       " 136.3618621826172,\n",
       " 135.43125915527344,\n",
       " 135.14312744140625,\n",
       " 133.6011505126953,\n",
       " 130.85572814941406,\n",
       " 134.22073364257812,\n",
       " 131.27171325683594,\n",
       " 130.73345947265625,\n",
       " 132.49151611328125,\n",
       " 133.7428741455078,\n",
       " 130.6703643798828,\n",
       " 134.633544921875,\n",
       " 132.47714233398438,\n",
       " 140.83291625976562,\n",
       " 132.20582580566406,\n",
       " 136.39251708984375,\n",
       " 131.072998046875,\n",
       " 130.3275909423828,\n",
       " 134.44773864746094,\n",
       " 129.74185180664062,\n",
       " 147.1800079345703,\n",
       " 130.9838409423828,\n",
       " 134.07862854003906,\n",
       " 134.67481994628906,\n",
       " 134.6183624267578,\n",
       " 131.29705810546875,\n",
       " 134.3430633544922,\n",
       " 137.5988311767578,\n",
       " 135.40818786621094,\n",
       " 136.07244873046875,\n",
       " 132.78219604492188,\n",
       " 133.2747802734375,\n",
       " 136.59202575683594,\n",
       " 137.49595642089844,\n",
       " 133.9539031982422,\n",
       " 142.99676513671875,\n",
       " 137.63560485839844,\n",
       " 136.18731689453125,\n",
       " 134.43313598632812,\n",
       " 135.64540100097656,\n",
       " 140.27752685546875,\n",
       " 134.5361785888672,\n",
       " 137.4423370361328,\n",
       " 137.3742218017578,\n",
       " 140.24728393554688,\n",
       " 135.8340301513672,\n",
       " 153.26515197753906,\n",
       " 139.2299041748047,\n",
       " 135.46437072753906,\n",
       " 139.1455535888672,\n",
       " 140.8526611328125,\n",
       " 136.51771545410156,\n",
       " 146.70985412597656,\n",
       " 138.69752502441406,\n",
       " 140.43798828125,\n",
       " 140.290283203125,\n",
       " 139.7157745361328,\n",
       " 138.97019958496094,\n",
       " 139.8981170654297,\n",
       " 142.63494873046875,\n",
       " 144.3984375,\n",
       " 139.7144012451172,\n",
       " 142.05926513671875,\n",
       " 141.63270568847656,\n",
       " 143.0495147705078]"
      ]
     },
     "execution_count": 30,
     "metadata": {},
     "output_type": "execute_result"
    }
   ],
   "source": [
    "hist.history['val_loss']"
   ]
  },
  {
   "cell_type": "code",
   "execution_count": 31,
   "metadata": {},
   "outputs": [
    {
     "data": {
      "text/plain": [
       "[207.18377685546875,\n",
       " 187.64968872070312,\n",
       " 113.95285034179688,\n",
       " 38.68483352661133,\n",
       " 22.325796127319336,\n",
       " 17.625951766967773,\n",
       " 15.788020133972168,\n",
       " 15.115367889404297,\n",
       " 14.749994277954102,\n",
       " 14.320611953735352,\n",
       " 13.926103591918945,\n",
       " 13.570531845092773,\n",
       " 13.139720916748047,\n",
       " 12.717765808105469,\n",
       " 12.424200057983398,\n",
       " 12.004071235656738,\n",
       " 11.665827751159668,\n",
       " 11.293827056884766,\n",
       " 10.976276397705078,\n",
       " 10.621698379516602,\n",
       " 10.292261123657227,\n",
       " 9.955074310302734,\n",
       " 9.7171049118042,\n",
       " 9.4711275100708,\n",
       " 9.13234806060791,\n",
       " 8.950106620788574,\n",
       " 8.772493362426758,\n",
       " 8.512020111083984,\n",
       " 8.371814727783203,\n",
       " 8.267339706420898,\n",
       " 8.033638000488281,\n",
       " 7.9990034103393555,\n",
       " 7.810758590698242,\n",
       " 7.723857879638672,\n",
       " 7.685227870941162,\n",
       " 7.569177150726318,\n",
       " 7.560860633850098,\n",
       " 7.478787422180176,\n",
       " 7.387453556060791,\n",
       " 7.351874828338623,\n",
       " 7.340173244476318,\n",
       " 7.228133678436279,\n",
       " 7.273455619812012,\n",
       " 7.156622409820557,\n",
       " 7.111125946044922,\n",
       " 7.099236488342285,\n",
       " 7.080198287963867,\n",
       " 7.056264877319336,\n",
       " 6.999139308929443,\n",
       " 6.9855055809021,\n",
       " 6.891688346862793,\n",
       " 6.89164924621582,\n",
       " 6.840183734893799,\n",
       " 6.820092678070068,\n",
       " 6.8398213386535645,\n",
       " 6.7406134605407715,\n",
       " 6.7764973640441895,\n",
       " 6.805075168609619,\n",
       " 6.699991226196289,\n",
       " 6.687789440155029,\n",
       " 6.689713001251221,\n",
       " 6.667807579040527,\n",
       " 6.719098091125488,\n",
       " 6.5890679359436035,\n",
       " 6.595389366149902,\n",
       " 6.631401538848877,\n",
       " 6.648085117340088,\n",
       " 6.471022129058838,\n",
       " 6.531419277191162,\n",
       " 6.520403861999512,\n",
       " 6.487268447875977,\n",
       " 6.554470062255859,\n",
       " 6.508420467376709,\n",
       " 6.428710460662842,\n",
       " 6.434351921081543,\n",
       " 6.412975311279297,\n",
       " 6.450295448303223,\n",
       " 6.341411590576172,\n",
       " 6.32503604888916,\n",
       " 6.362593173980713,\n",
       " 6.3098554611206055,\n",
       " 6.282403469085693,\n",
       " 6.321082592010498,\n",
       " 6.258478164672852,\n",
       " 6.203719615936279,\n",
       " 6.253690242767334,\n",
       " 6.26414680480957,\n",
       " 6.2164225578308105,\n",
       " 6.200538158416748,\n",
       " 6.1485819816589355,\n",
       " 6.175009727478027,\n",
       " 6.127931594848633,\n",
       " 6.170994758605957,\n",
       " 6.1394500732421875,\n",
       " 6.080102920532227,\n",
       " 6.060859203338623,\n",
       " 6.1706109046936035,\n",
       " 6.030416965484619,\n",
       " 6.094182968139648,\n",
       " 6.058513641357422]"
      ]
     },
     "execution_count": 31,
     "metadata": {},
     "output_type": "execute_result"
    }
   ],
   "source": [
    "hist.history['mae']"
   ]
  },
  {
   "cell_type": "code",
   "execution_count": 32,
   "metadata": {},
   "outputs": [
    {
     "data": {
      "text/plain": [
       "[207.86753845214844,\n",
       " 163.88951110839844,\n",
       " 68.0423355102539,\n",
       " 25.565229415893555,\n",
       " 19.866655349731445,\n",
       " 16.49202537536621,\n",
       " 15.545928001403809,\n",
       " 15.394035339355469,\n",
       " 14.833449363708496,\n",
       " 14.44245719909668,\n",
       " 14.0449857711792,\n",
       " 13.686382293701172,\n",
       " 13.42054557800293,\n",
       " 13.082297325134277,\n",
       " 12.762694358825684,\n",
       " 12.489537239074707,\n",
       " 12.206766128540039,\n",
       " 11.943560600280762,\n",
       " 11.797396659851074,\n",
       " 11.730586051940918,\n",
       " 11.253242492675781,\n",
       " 10.998320579528809,\n",
       " 10.691076278686523,\n",
       " 10.652430534362793,\n",
       " 10.414176940917969,\n",
       " 10.234840393066406,\n",
       " 10.095367431640625,\n",
       " 10.028397560119629,\n",
       " 9.835088729858398,\n",
       " 9.733766555786133,\n",
       " 9.624202728271484,\n",
       " 9.510357856750488,\n",
       " 9.470793724060059,\n",
       " 9.511855125427246,\n",
       " 9.353782653808594,\n",
       " 9.369911193847656,\n",
       " 9.322872161865234,\n",
       " 9.293841361999512,\n",
       " 9.251659393310547,\n",
       " 9.182918548583984,\n",
       " 9.251808166503906,\n",
       " 9.210134506225586,\n",
       " 9.166557312011719,\n",
       " 9.25181770324707,\n",
       " 9.236211776733398,\n",
       " 9.163080215454102,\n",
       " 9.320079803466797,\n",
       " 9.174003601074219,\n",
       " 9.54291820526123,\n",
       " 9.200833320617676,\n",
       " 9.425707817077637,\n",
       " 9.188743591308594,\n",
       " 9.121537208557129,\n",
       " 9.259536743164062,\n",
       " 9.121652603149414,\n",
       " 9.653193473815918,\n",
       " 9.185473442077637,\n",
       " 9.303203582763672,\n",
       " 9.285096168518066,\n",
       " 9.2562837600708,\n",
       " 9.189593315124512,\n",
       " 9.248974800109863,\n",
       " 9.362420082092285,\n",
       " 9.385041236877441,\n",
       " 9.322452545166016,\n",
       " 9.328813552856445,\n",
       " 9.228889465332031,\n",
       " 9.465126991271973,\n",
       " 9.447846412658691,\n",
       " 9.24045181274414,\n",
       " 9.64946174621582,\n",
       " 9.436975479125977,\n",
       " 9.299295425415039,\n",
       " 9.294839859008789,\n",
       " 9.302469253540039,\n",
       " 9.484149932861328,\n",
       " 9.377849578857422,\n",
       " 9.39072036743164,\n",
       " 9.423898696899414,\n",
       " 9.539603233337402,\n",
       " 9.317336082458496,\n",
       " 9.941154479980469,\n",
       " 9.429827690124512,\n",
       " 9.416929244995117,\n",
       " 9.556867599487305,\n",
       " 9.541858673095703,\n",
       " 9.355484008789062,\n",
       " 9.669204711914062,\n",
       " 9.464427947998047,\n",
       " 9.444390296936035,\n",
       " 9.532768249511719,\n",
       " 9.476215362548828,\n",
       " 9.540964126586914,\n",
       " 9.527424812316895,\n",
       " 9.584192276000977,\n",
       " 9.634663581848145,\n",
       " 9.499175071716309,\n",
       " 9.565547943115234,\n",
       " 9.641772270202637,\n",
       " 9.58449649810791]"
      ]
     },
     "execution_count": 32,
     "metadata": {},
     "output_type": "execute_result"
    }
   ],
   "source": [
    "hist.history['val_mae']"
   ]
  },
  {
   "cell_type": "markdown",
   "metadata": {},
   "source": [
    "### Plot the learning curve"
   ]
  },
  {
   "cell_type": "code",
   "execution_count": 33,
   "metadata": {},
   "outputs": [
    {
     "data": {
      "image/png": "[encoded data removed]",
      "text/plain": [
       "<Figure size 1600x800 with 1 Axes>"
      ]
     },
     "metadata": {},
     "output_type": "display_data"
    }
   ],
   "source": [
    "import matplotlib.pyplot as plt\n",
    "plt.figure(figsize=(16,8))\n",
    "plt.plot(hist.history['loss'], label='Train MSE')\n",
    "plt.plot(hist.history['val_loss'], label='Validation MSE')\n",
    "plt.xlabel('Epochs')\n",
    "plt.ylabel('Mean Squared Error')\n",
    "plt.title('Learning Curve')\n",
    "plt.legend()\n",
    "plt.show()"
   ]
  },
  {
   "cell_type": "markdown",
   "metadata": {},
   "source": [
    "### Evaluate the model"
   ]
  },
  {
   "cell_type": "code",
   "execution_count": 34,
   "metadata": {},
   "outputs": [
    {
     "name": "stdout",
     "output_type": "stream",
     "text": [
      "125/125 [==============================] - 0s 901us/step - loss: 73.1268 - mae: 6.5922\n"
     ]
    },
    {
     "data": {
      "text/plain": [
       "[73.1268310546875, 6.592174530029297]"
      ]
     },
     "execution_count": 34,
     "metadata": {},
     "output_type": "execute_result"
    }
   ],
   "source": [
    "model.evaluate(xtrain, ytrain)"
   ]
  },
  {
   "cell_type": "code",
   "execution_count": 35,
   "metadata": {},
   "outputs": [
    {
     "name": "stdout",
     "output_type": "stream",
     "text": [
      "32/32 [==============================] - 0s 945us/step - loss: 125.1137 - mae: 8.8053\n"
     ]
    },
    {
     "data": {
      "text/plain": [
       "[125.1136703491211, 8.805253028869629]"
      ]
     },
     "execution_count": 35,
     "metadata": {},
     "output_type": "execute_result"
    }
   ],
   "source": [
    "model.evaluate(xtest, ytest)"
   ]
  },
  {
   "cell_type": "markdown",
   "metadata": {},
   "source": [
    "### Predict train and test"
   ]
  },
  {
   "cell_type": "code",
   "execution_count": 36,
   "metadata": {},
   "outputs": [
    {
     "name": "stdout",
     "output_type": "stream",
     "text": [
      "125/125 [==============================] - 0s 795us/step\n",
      "32/32 [==============================] - 0s 715us/step\n"
     ]
    }
   ],
   "source": [
    "ypred_tr = model.predict(xtrain)\n",
    "ypred_ts = model.predict(xtest)"
   ]
  },
  {
   "cell_type": "code",
   "execution_count": 37,
   "metadata": {},
   "outputs": [
    {
     "data": {
      "text/plain": [
       "array([[ 420.12405 ],\n",
       "       [-459.9359  ],\n",
       "       [  37.352646],\n",
       "       [ 121.837   ],\n",
       "       [-216.49219 ]], dtype=float32)"
      ]
     },
     "execution_count": 37,
     "metadata": {},
     "output_type": "execute_result"
    }
   ],
   "source": [
    "ypred_tr[0:5]"
   ]
  },
  {
   "cell_type": "code",
   "execution_count": 38,
   "metadata": {},
   "outputs": [
    {
     "data": {
      "text/html": [
       "<div>\n",
       "<style scoped>\n",
       "    .dataframe tbody tr th:only-of-type {\n",
       "        vertical-align: middle;\n",
       "    }\n",
       "\n",
       "    .dataframe tbody tr th {\n",
       "        vertical-align: top;\n",
       "    }\n",
       "\n",
       "    .dataframe thead th {\n",
       "        text-align: right;\n",
       "    }\n",
       "</style>\n",
       "<table border=\"1\" class=\"dataframe\">\n",
       "  <thead>\n",
       "    <tr style=\"text-align: right;\">\n",
       "      <th></th>\n",
       "      <th>Y</th>\n",
       "    </tr>\n",
       "  </thead>\n",
       "  <tbody>\n",
       "    <tr>\n",
       "      <th>4227</th>\n",
       "      <td>421.295025</td>\n",
       "    </tr>\n",
       "    <tr>\n",
       "      <th>4676</th>\n",
       "      <td>-469.452726</td>\n",
       "    </tr>\n",
       "    <tr>\n",
       "      <th>800</th>\n",
       "      <td>42.172815</td>\n",
       "    </tr>\n",
       "    <tr>\n",
       "      <th>3671</th>\n",
       "      <td>114.083914</td>\n",
       "    </tr>\n",
       "    <tr>\n",
       "      <th>4193</th>\n",
       "      <td>-217.535707</td>\n",
       "    </tr>\n",
       "  </tbody>\n",
       "</table>\n",
       "</div>"
      ],
      "text/plain": [
       "               Y\n",
       "4227  421.295025\n",
       "4676 -469.452726\n",
       "800    42.172815\n",
       "3671  114.083914\n",
       "4193 -217.535707"
      ]
     },
     "execution_count": 38,
     "metadata": {},
     "output_type": "execute_result"
    }
   ],
   "source": [
    "ytrain.head()"
   ]
  },
  {
   "cell_type": "code",
   "execution_count": 40,
   "metadata": {},
   "outputs": [
    {
     "data": {
      "text/plain": [
       "array([[ 309.33453 ],\n",
       "       [ -72.473595],\n",
       "       [-174.647   ],\n",
       "       [ 232.11374 ],\n",
       "       [ 184.3963  ]], dtype=float32)"
      ]
     },
     "execution_count": 40,
     "metadata": {},
     "output_type": "execute_result"
    }
   ],
   "source": [
    "ypred_ts[0:5]"
   ]
  },
  {
   "cell_type": "code",
   "execution_count": 41,
   "metadata": {},
   "outputs": [
    {
     "data": {
      "text/html": [
       "<div>\n",
       "<style scoped>\n",
       "    .dataframe tbody tr th:only-of-type {\n",
       "        vertical-align: middle;\n",
       "    }\n",
       "\n",
       "    .dataframe tbody tr th {\n",
       "        vertical-align: top;\n",
       "    }\n",
       "\n",
       "    .dataframe thead th {\n",
       "        text-align: right;\n",
       "    }\n",
       "</style>\n",
       "<table border=\"1\" class=\"dataframe\">\n",
       "  <thead>\n",
       "    <tr style=\"text-align: right;\">\n",
       "      <th></th>\n",
       "      <th>Y</th>\n",
       "    </tr>\n",
       "  </thead>\n",
       "  <tbody>\n",
       "    <tr>\n",
       "      <th>1501</th>\n",
       "      <td>297.782677</td>\n",
       "    </tr>\n",
       "    <tr>\n",
       "      <th>2586</th>\n",
       "      <td>-55.418700</td>\n",
       "    </tr>\n",
       "    <tr>\n",
       "      <th>2653</th>\n",
       "      <td>-181.896454</td>\n",
       "    </tr>\n",
       "    <tr>\n",
       "      <th>1055</th>\n",
       "      <td>210.251382</td>\n",
       "    </tr>\n",
       "    <tr>\n",
       "      <th>705</th>\n",
       "      <td>188.412050</td>\n",
       "    </tr>\n",
       "  </tbody>\n",
       "</table>\n",
       "</div>"
      ],
      "text/plain": [
       "               Y\n",
       "1501  297.782677\n",
       "2586  -55.418700\n",
       "2653 -181.896454\n",
       "1055  210.251382\n",
       "705   188.412050"
      ]
     },
     "execution_count": 41,
     "metadata": {},
     "output_type": "execute_result"
    }
   ],
   "source": [
    "ytest.head()"
   ]
  },
  {
   "cell_type": "markdown",
   "metadata": {},
   "source": [
    "### Show r2 score in train and test"
   ]
  },
  {
   "cell_type": "code",
   "execution_count": 42,
   "metadata": {},
   "outputs": [
    {
     "name": "stdout",
     "output_type": "stream",
     "text": [
      "Training R2 : 0.9989\n"
     ]
    }
   ],
   "source": [
    "from sklearn.metrics import r2_score\n",
    "tr_r2 = r2_score(ytrain, ypred_tr)\n",
    "print(f'Training R2 : {tr_r2:.4f}')"
   ]
  },
  {
   "cell_type": "code",
   "execution_count": 43,
   "metadata": {},
   "outputs": [
    {
     "name": "stdout",
     "output_type": "stream",
     "text": [
      "Testing R2 : 0.9983\n"
     ]
    }
   ],
   "source": [
    "ts_r2 = r2_score(ytest, ypred_ts)\n",
    "print(f'Testing R2 : {ts_r2:.4f}')"
   ]
  },
  {
   "cell_type": "markdown",
   "metadata": {},
   "source": [
    "### Save the model for future"
   ]
  },
  {
   "cell_type": "code",
   "execution_count": 44,
   "metadata": {},
   "outputs": [],
   "source": [
    "model.save('ExampleRegression.keras')"
   ]
  },
  {
   "cell_type": "markdown",
   "metadata": {},
   "source": [
    "### Loading the model"
   ]
  },
  {
   "cell_type": "code",
   "execution_count": 45,
   "metadata": {},
   "outputs": [],
   "source": [
    "from keras.models import load_model"
   ]
  },
  {
   "cell_type": "code",
   "execution_count": 46,
   "metadata": {},
   "outputs": [],
   "source": [
    "nn = load_model('ExampleRegression.keras')"
   ]
  },
  {
   "cell_type": "code",
   "execution_count": 47,
   "metadata": {},
   "outputs": [
    {
     "name": "stdout",
     "output_type": "stream",
     "text": [
      "Model: \"sequential\"\n",
      "_________________________________________________________________\n",
      " Layer (type)                Output Shape              Param #   \n",
      "=================================================================\n",
      " dense (Dense)               (None, 64)                1984      \n",
      "                                                                 \n",
      " dense_1 (Dense)             (None, 32)                2080      \n",
      "                                                                 \n",
      " dense_2 (Dense)             (None, 1)                 33        \n",
      "                                                                 \n",
      "=================================================================\n",
      "Total params: 4097 (16.00 KB)\n",
      "Trainable params: 4097 (16.00 KB)\n",
      "Non-trainable params: 0 (0.00 Byte)\n",
      "_________________________________________________________________\n"
     ]
    }
   ],
   "source": [
    "nn.summary()"
   ]
  },
  {
   "cell_type": "code",
   "execution_count": null,
   "metadata": {},
   "outputs": [],
   "source": []
  }
 ],
 "metadata": {
  "kernelspec": {
   "display_name": "venv",
   "language": "python",
   "name": "python3"
  },
  "language_info": {
   "codemirror_mode": {
    "name": "ipython",
    "version": 3
   },
   "file_extension": ".py",
   "mimetype": "text/x-python",
   "name": "python",
   "nbconvert_exporter": "python",
   "pygments_lexer": "ipython3",
   "version": "3.11.6"
  }
 },
 "nbformat": 4,
 "nbformat_minor": 2
}
